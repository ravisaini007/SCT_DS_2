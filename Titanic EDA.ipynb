{
 "cells": [
  {
   "cell_type": "code",
   "execution_count": 1,
   "id": "295182e3-6c46-4152-9fa6-1c77c0cc8eaa",
   "metadata": {},
   "outputs": [],
   "source": [
    "#TASK 2: Exploratory Data Analysis (EDA) on the Titanic Dataset\n",
    "\n",
    "# ====================================================\n",
    "# 📦 1.IMPORTING REQUIRED LIBRARIES.\n",
    "# ====================================================\n",
    "import pandas as pd\n",
    "import numpy as np\n",
    "import matplotlib.pyplot as plt\n",
    "import seaborn as sns\n",
    "import warnings\n",
    "import plotly.express as px"
   ]
  },
  {
   "cell_type": "code",
   "execution_count": 2,
   "id": "b0a02a5a-92ce-4e0c-bfc5-ca57a4965ed7",
   "metadata": {},
   "outputs": [
    {
     "name": "stdout",
     "output_type": "stream",
     "text": [
      "Dataset Loaded Successfully \n",
      "\n"
     ]
    }
   ],
   "source": [
    "# ====================================================\n",
    "# 📂 2.LOADING DATASET\n",
    "# ====================================================\n",
    "df = pd.read_csv(\"titanic.csv\")\n",
    "print(\"Dataset Loaded Successfully \\n\" )"
   ]
  },
  {
   "cell_type": "code",
   "execution_count": 3,
   "id": "42cfa6e9-c4e5-42bf-b93f-16fdd3979787",
   "metadata": {},
   "outputs": [
    {
     "name": "stdout",
     "output_type": "stream",
     "text": [
      "DATASET OVERVIEW \n",
      "\n"
     ]
    },
    {
     "data": {
      "text/html": [
       "<div>\n",
       "<style scoped>\n",
       "    .dataframe tbody tr th:only-of-type {\n",
       "        vertical-align: middle;\n",
       "    }\n",
       "\n",
       "    .dataframe tbody tr th {\n",
       "        vertical-align: top;\n",
       "    }\n",
       "\n",
       "    .dataframe thead th {\n",
       "        text-align: right;\n",
       "    }\n",
       "</style>\n",
       "<table border=\"1\" class=\"dataframe\">\n",
       "  <thead>\n",
       "    <tr style=\"text-align: right;\">\n",
       "      <th></th>\n",
       "      <th>PassengerId</th>\n",
       "      <th>Survived</th>\n",
       "      <th>Pclass</th>\n",
       "      <th>Name</th>\n",
       "      <th>Sex</th>\n",
       "      <th>Age</th>\n",
       "      <th>SibSp</th>\n",
       "      <th>Parch</th>\n",
       "      <th>Ticket</th>\n",
       "      <th>Fare</th>\n",
       "      <th>Cabin</th>\n",
       "      <th>Embarked</th>\n",
       "    </tr>\n",
       "  </thead>\n",
       "  <tbody>\n",
       "    <tr>\n",
       "      <th>0</th>\n",
       "      <td>1</td>\n",
       "      <td>0</td>\n",
       "      <td>3</td>\n",
       "      <td>Braund, Mr. Owen Harris</td>\n",
       "      <td>male</td>\n",
       "      <td>22.0</td>\n",
       "      <td>1</td>\n",
       "      <td>0</td>\n",
       "      <td>A/5 21171</td>\n",
       "      <td>7.2500</td>\n",
       "      <td>NaN</td>\n",
       "      <td>S</td>\n",
       "    </tr>\n",
       "    <tr>\n",
       "      <th>1</th>\n",
       "      <td>2</td>\n",
       "      <td>1</td>\n",
       "      <td>1</td>\n",
       "      <td>Cumings, Mrs. John Bradley (Florence Briggs Th...</td>\n",
       "      <td>female</td>\n",
       "      <td>38.0</td>\n",
       "      <td>1</td>\n",
       "      <td>0</td>\n",
       "      <td>PC 17599</td>\n",
       "      <td>71.2833</td>\n",
       "      <td>C85</td>\n",
       "      <td>C</td>\n",
       "    </tr>\n",
       "    <tr>\n",
       "      <th>2</th>\n",
       "      <td>3</td>\n",
       "      <td>1</td>\n",
       "      <td>3</td>\n",
       "      <td>Heikkinen, Miss. Laina</td>\n",
       "      <td>female</td>\n",
       "      <td>26.0</td>\n",
       "      <td>0</td>\n",
       "      <td>0</td>\n",
       "      <td>STON/O2. 3101282</td>\n",
       "      <td>7.9250</td>\n",
       "      <td>NaN</td>\n",
       "      <td>S</td>\n",
       "    </tr>\n",
       "    <tr>\n",
       "      <th>3</th>\n",
       "      <td>4</td>\n",
       "      <td>1</td>\n",
       "      <td>1</td>\n",
       "      <td>Futrelle, Mrs. Jacques Heath (Lily May Peel)</td>\n",
       "      <td>female</td>\n",
       "      <td>35.0</td>\n",
       "      <td>1</td>\n",
       "      <td>0</td>\n",
       "      <td>113803</td>\n",
       "      <td>53.1000</td>\n",
       "      <td>C123</td>\n",
       "      <td>S</td>\n",
       "    </tr>\n",
       "    <tr>\n",
       "      <th>4</th>\n",
       "      <td>5</td>\n",
       "      <td>0</td>\n",
       "      <td>3</td>\n",
       "      <td>Allen, Mr. William Henry</td>\n",
       "      <td>male</td>\n",
       "      <td>35.0</td>\n",
       "      <td>0</td>\n",
       "      <td>0</td>\n",
       "      <td>373450</td>\n",
       "      <td>8.0500</td>\n",
       "      <td>NaN</td>\n",
       "      <td>S</td>\n",
       "    </tr>\n",
       "    <tr>\n",
       "      <th>5</th>\n",
       "      <td>6</td>\n",
       "      <td>0</td>\n",
       "      <td>3</td>\n",
       "      <td>Moran, Mr. James</td>\n",
       "      <td>male</td>\n",
       "      <td>NaN</td>\n",
       "      <td>0</td>\n",
       "      <td>0</td>\n",
       "      <td>330877</td>\n",
       "      <td>8.4583</td>\n",
       "      <td>NaN</td>\n",
       "      <td>Q</td>\n",
       "    </tr>\n",
       "    <tr>\n",
       "      <th>6</th>\n",
       "      <td>7</td>\n",
       "      <td>0</td>\n",
       "      <td>1</td>\n",
       "      <td>McCarthy, Mr. Timothy J</td>\n",
       "      <td>male</td>\n",
       "      <td>54.0</td>\n",
       "      <td>0</td>\n",
       "      <td>0</td>\n",
       "      <td>17463</td>\n",
       "      <td>51.8625</td>\n",
       "      <td>E46</td>\n",
       "      <td>S</td>\n",
       "    </tr>\n",
       "    <tr>\n",
       "      <th>7</th>\n",
       "      <td>8</td>\n",
       "      <td>0</td>\n",
       "      <td>3</td>\n",
       "      <td>Palsson, Master. Gosta Leonard</td>\n",
       "      <td>male</td>\n",
       "      <td>2.0</td>\n",
       "      <td>3</td>\n",
       "      <td>1</td>\n",
       "      <td>349909</td>\n",
       "      <td>21.0750</td>\n",
       "      <td>NaN</td>\n",
       "      <td>S</td>\n",
       "    </tr>\n",
       "    <tr>\n",
       "      <th>8</th>\n",
       "      <td>9</td>\n",
       "      <td>1</td>\n",
       "      <td>3</td>\n",
       "      <td>Johnson, Mrs. Oscar W (Elisabeth Vilhelmina Berg)</td>\n",
       "      <td>female</td>\n",
       "      <td>27.0</td>\n",
       "      <td>0</td>\n",
       "      <td>2</td>\n",
       "      <td>347742</td>\n",
       "      <td>11.1333</td>\n",
       "      <td>NaN</td>\n",
       "      <td>S</td>\n",
       "    </tr>\n",
       "    <tr>\n",
       "      <th>9</th>\n",
       "      <td>10</td>\n",
       "      <td>1</td>\n",
       "      <td>2</td>\n",
       "      <td>Nasser, Mrs. Nicholas (Adele Achem)</td>\n",
       "      <td>female</td>\n",
       "      <td>14.0</td>\n",
       "      <td>1</td>\n",
       "      <td>0</td>\n",
       "      <td>237736</td>\n",
       "      <td>30.0708</td>\n",
       "      <td>NaN</td>\n",
       "      <td>C</td>\n",
       "    </tr>\n",
       "  </tbody>\n",
       "</table>\n",
       "</div>"
      ],
      "text/plain": [
       "   PassengerId  Survived  Pclass  \\\n",
       "0            1         0       3   \n",
       "1            2         1       1   \n",
       "2            3         1       3   \n",
       "3            4         1       1   \n",
       "4            5         0       3   \n",
       "5            6         0       3   \n",
       "6            7         0       1   \n",
       "7            8         0       3   \n",
       "8            9         1       3   \n",
       "9           10         1       2   \n",
       "\n",
       "                                                Name     Sex   Age  SibSp  \\\n",
       "0                            Braund, Mr. Owen Harris    male  22.0      1   \n",
       "1  Cumings, Mrs. John Bradley (Florence Briggs Th...  female  38.0      1   \n",
       "2                             Heikkinen, Miss. Laina  female  26.0      0   \n",
       "3       Futrelle, Mrs. Jacques Heath (Lily May Peel)  female  35.0      1   \n",
       "4                           Allen, Mr. William Henry    male  35.0      0   \n",
       "5                                   Moran, Mr. James    male   NaN      0   \n",
       "6                            McCarthy, Mr. Timothy J    male  54.0      0   \n",
       "7                     Palsson, Master. Gosta Leonard    male   2.0      3   \n",
       "8  Johnson, Mrs. Oscar W (Elisabeth Vilhelmina Berg)  female  27.0      0   \n",
       "9                Nasser, Mrs. Nicholas (Adele Achem)  female  14.0      1   \n",
       "\n",
       "   Parch            Ticket     Fare Cabin Embarked  \n",
       "0      0         A/5 21171   7.2500   NaN        S  \n",
       "1      0          PC 17599  71.2833   C85        C  \n",
       "2      0  STON/O2. 3101282   7.9250   NaN        S  \n",
       "3      0            113803  53.1000  C123        S  \n",
       "4      0            373450   8.0500   NaN        S  \n",
       "5      0            330877   8.4583   NaN        Q  \n",
       "6      0             17463  51.8625   E46        S  \n",
       "7      1            349909  21.0750   NaN        S  \n",
       "8      2            347742  11.1333   NaN        S  \n",
       "9      0            237736  30.0708   NaN        C  "
      ]
     },
     "metadata": {},
     "output_type": "display_data"
    },
    {
     "name": "stdout",
     "output_type": "stream",
     "text": [
      "\n",
      "\n",
      "SHAPE OF THE DATASET : (891, 12) \n",
      "\n",
      "COLUMNS IN THE DATASET : Index(['PassengerId', 'Survived', 'Pclass', 'Name', 'Sex', 'Age', 'SibSp',\n",
      "       'Parch', 'Ticket', 'Fare', 'Cabin', 'Embarked'],\n",
      "      dtype='object') \n",
      "\n",
      "<class 'pandas.core.frame.DataFrame'>\n",
      "RangeIndex: 891 entries, 0 to 890\n",
      "Data columns (total 12 columns):\n",
      " #   Column       Non-Null Count  Dtype  \n",
      "---  ------       --------------  -----  \n",
      " 0   PassengerId  891 non-null    int64  \n",
      " 1   Survived     891 non-null    int64  \n",
      " 2   Pclass       891 non-null    int64  \n",
      " 3   Name         891 non-null    object \n",
      " 4   Sex          891 non-null    object \n",
      " 5   Age          714 non-null    float64\n",
      " 6   SibSp        891 non-null    int64  \n",
      " 7   Parch        891 non-null    int64  \n",
      " 8   Ticket       891 non-null    object \n",
      " 9   Fare         891 non-null    float64\n",
      " 10  Cabin        204 non-null    object \n",
      " 11  Embarked     889 non-null    object \n",
      "dtypes: float64(2), int64(5), object(5)\n",
      "memory usage: 83.7+ KB\n",
      "INFORMATION OF THE DATASET:  None \n",
      "\n"
     ]
    }
   ],
   "source": [
    "# ====================================================\n",
    "# 🔍 3.INITIAL EXPLORATION OF THE DATASET\n",
    "# ====================================================\n",
    "warnings.filterwarnings('ignore')\n",
    "#PREVIEW OF THE DATASET\n",
    "\n",
    "print(\"DATASET OVERVIEW \\n\")\n",
    "display(df.head(10))\n",
    "print(\"\\n\")\n",
    "\n",
    "\n",
    "print(f\"SHAPE OF THE DATASET : {df.shape} \\n\")\n",
    "print(f\"COLUMNS IN THE DATASET : {df.columns} \\n\")\n",
    "print(\"INFORMATION OF THE DATASET: \", df.info() ,\"\\n\" )\n"
   ]
  },
  {
   "cell_type": "code",
   "execution_count": 4,
   "id": "2d04a715-eb04-4886-89d1-d55093a13868",
   "metadata": {},
   "outputs": [
    {
     "name": "stdout",
     "output_type": "stream",
     "text": [
      "Summary Statistics:\n",
      "\n"
     ]
    },
    {
     "data": {
      "text/html": [
       "<div>\n",
       "<style scoped>\n",
       "    .dataframe tbody tr th:only-of-type {\n",
       "        vertical-align: middle;\n",
       "    }\n",
       "\n",
       "    .dataframe tbody tr th {\n",
       "        vertical-align: top;\n",
       "    }\n",
       "\n",
       "    .dataframe thead th {\n",
       "        text-align: right;\n",
       "    }\n",
       "</style>\n",
       "<table border=\"1\" class=\"dataframe\">\n",
       "  <thead>\n",
       "    <tr style=\"text-align: right;\">\n",
       "      <th></th>\n",
       "      <th>PassengerId</th>\n",
       "      <th>Survived</th>\n",
       "      <th>Pclass</th>\n",
       "      <th>Name</th>\n",
       "      <th>Sex</th>\n",
       "      <th>Age</th>\n",
       "      <th>SibSp</th>\n",
       "      <th>Parch</th>\n",
       "      <th>Ticket</th>\n",
       "      <th>Fare</th>\n",
       "      <th>Cabin</th>\n",
       "      <th>Embarked</th>\n",
       "    </tr>\n",
       "  </thead>\n",
       "  <tbody>\n",
       "    <tr>\n",
       "      <th>count</th>\n",
       "      <td>891.000000</td>\n",
       "      <td>891.000000</td>\n",
       "      <td>891.000000</td>\n",
       "      <td>891</td>\n",
       "      <td>891</td>\n",
       "      <td>714.000000</td>\n",
       "      <td>891.000000</td>\n",
       "      <td>891.000000</td>\n",
       "      <td>891</td>\n",
       "      <td>891.000000</td>\n",
       "      <td>204</td>\n",
       "      <td>889</td>\n",
       "    </tr>\n",
       "    <tr>\n",
       "      <th>unique</th>\n",
       "      <td>NaN</td>\n",
       "      <td>NaN</td>\n",
       "      <td>NaN</td>\n",
       "      <td>891</td>\n",
       "      <td>2</td>\n",
       "      <td>NaN</td>\n",
       "      <td>NaN</td>\n",
       "      <td>NaN</td>\n",
       "      <td>681</td>\n",
       "      <td>NaN</td>\n",
       "      <td>147</td>\n",
       "      <td>3</td>\n",
       "    </tr>\n",
       "    <tr>\n",
       "      <th>top</th>\n",
       "      <td>NaN</td>\n",
       "      <td>NaN</td>\n",
       "      <td>NaN</td>\n",
       "      <td>Dooley, Mr. Patrick</td>\n",
       "      <td>male</td>\n",
       "      <td>NaN</td>\n",
       "      <td>NaN</td>\n",
       "      <td>NaN</td>\n",
       "      <td>347082</td>\n",
       "      <td>NaN</td>\n",
       "      <td>G6</td>\n",
       "      <td>S</td>\n",
       "    </tr>\n",
       "    <tr>\n",
       "      <th>freq</th>\n",
       "      <td>NaN</td>\n",
       "      <td>NaN</td>\n",
       "      <td>NaN</td>\n",
       "      <td>1</td>\n",
       "      <td>577</td>\n",
       "      <td>NaN</td>\n",
       "      <td>NaN</td>\n",
       "      <td>NaN</td>\n",
       "      <td>7</td>\n",
       "      <td>NaN</td>\n",
       "      <td>4</td>\n",
       "      <td>644</td>\n",
       "    </tr>\n",
       "    <tr>\n",
       "      <th>mean</th>\n",
       "      <td>446.000000</td>\n",
       "      <td>0.383838</td>\n",
       "      <td>2.308642</td>\n",
       "      <td>NaN</td>\n",
       "      <td>NaN</td>\n",
       "      <td>29.699118</td>\n",
       "      <td>0.523008</td>\n",
       "      <td>0.381594</td>\n",
       "      <td>NaN</td>\n",
       "      <td>32.204208</td>\n",
       "      <td>NaN</td>\n",
       "      <td>NaN</td>\n",
       "    </tr>\n",
       "    <tr>\n",
       "      <th>std</th>\n",
       "      <td>257.353842</td>\n",
       "      <td>0.486592</td>\n",
       "      <td>0.836071</td>\n",
       "      <td>NaN</td>\n",
       "      <td>NaN</td>\n",
       "      <td>14.526497</td>\n",
       "      <td>1.102743</td>\n",
       "      <td>0.806057</td>\n",
       "      <td>NaN</td>\n",
       "      <td>49.693429</td>\n",
       "      <td>NaN</td>\n",
       "      <td>NaN</td>\n",
       "    </tr>\n",
       "    <tr>\n",
       "      <th>min</th>\n",
       "      <td>1.000000</td>\n",
       "      <td>0.000000</td>\n",
       "      <td>1.000000</td>\n",
       "      <td>NaN</td>\n",
       "      <td>NaN</td>\n",
       "      <td>0.420000</td>\n",
       "      <td>0.000000</td>\n",
       "      <td>0.000000</td>\n",
       "      <td>NaN</td>\n",
       "      <td>0.000000</td>\n",
       "      <td>NaN</td>\n",
       "      <td>NaN</td>\n",
       "    </tr>\n",
       "    <tr>\n",
       "      <th>25%</th>\n",
       "      <td>223.500000</td>\n",
       "      <td>0.000000</td>\n",
       "      <td>2.000000</td>\n",
       "      <td>NaN</td>\n",
       "      <td>NaN</td>\n",
       "      <td>20.125000</td>\n",
       "      <td>0.000000</td>\n",
       "      <td>0.000000</td>\n",
       "      <td>NaN</td>\n",
       "      <td>7.910400</td>\n",
       "      <td>NaN</td>\n",
       "      <td>NaN</td>\n",
       "    </tr>\n",
       "    <tr>\n",
       "      <th>50%</th>\n",
       "      <td>446.000000</td>\n",
       "      <td>0.000000</td>\n",
       "      <td>3.000000</td>\n",
       "      <td>NaN</td>\n",
       "      <td>NaN</td>\n",
       "      <td>28.000000</td>\n",
       "      <td>0.000000</td>\n",
       "      <td>0.000000</td>\n",
       "      <td>NaN</td>\n",
       "      <td>14.454200</td>\n",
       "      <td>NaN</td>\n",
       "      <td>NaN</td>\n",
       "    </tr>\n",
       "    <tr>\n",
       "      <th>75%</th>\n",
       "      <td>668.500000</td>\n",
       "      <td>1.000000</td>\n",
       "      <td>3.000000</td>\n",
       "      <td>NaN</td>\n",
       "      <td>NaN</td>\n",
       "      <td>38.000000</td>\n",
       "      <td>1.000000</td>\n",
       "      <td>0.000000</td>\n",
       "      <td>NaN</td>\n",
       "      <td>31.000000</td>\n",
       "      <td>NaN</td>\n",
       "      <td>NaN</td>\n",
       "    </tr>\n",
       "    <tr>\n",
       "      <th>max</th>\n",
       "      <td>891.000000</td>\n",
       "      <td>1.000000</td>\n",
       "      <td>3.000000</td>\n",
       "      <td>NaN</td>\n",
       "      <td>NaN</td>\n",
       "      <td>80.000000</td>\n",
       "      <td>8.000000</td>\n",
       "      <td>6.000000</td>\n",
       "      <td>NaN</td>\n",
       "      <td>512.329200</td>\n",
       "      <td>NaN</td>\n",
       "      <td>NaN</td>\n",
       "    </tr>\n",
       "  </tbody>\n",
       "</table>\n",
       "</div>"
      ],
      "text/plain": [
       "        PassengerId    Survived      Pclass                 Name   Sex  \\\n",
       "count    891.000000  891.000000  891.000000                  891   891   \n",
       "unique          NaN         NaN         NaN                  891     2   \n",
       "top             NaN         NaN         NaN  Dooley, Mr. Patrick  male   \n",
       "freq            NaN         NaN         NaN                    1   577   \n",
       "mean     446.000000    0.383838    2.308642                  NaN   NaN   \n",
       "std      257.353842    0.486592    0.836071                  NaN   NaN   \n",
       "min        1.000000    0.000000    1.000000                  NaN   NaN   \n",
       "25%      223.500000    0.000000    2.000000                  NaN   NaN   \n",
       "50%      446.000000    0.000000    3.000000                  NaN   NaN   \n",
       "75%      668.500000    1.000000    3.000000                  NaN   NaN   \n",
       "max      891.000000    1.000000    3.000000                  NaN   NaN   \n",
       "\n",
       "               Age       SibSp       Parch  Ticket        Fare Cabin Embarked  \n",
       "count   714.000000  891.000000  891.000000     891  891.000000   204      889  \n",
       "unique         NaN         NaN         NaN     681         NaN   147        3  \n",
       "top            NaN         NaN         NaN  347082         NaN    G6        S  \n",
       "freq           NaN         NaN         NaN       7         NaN     4      644  \n",
       "mean     29.699118    0.523008    0.381594     NaN   32.204208   NaN      NaN  \n",
       "std      14.526497    1.102743    0.806057     NaN   49.693429   NaN      NaN  \n",
       "min       0.420000    0.000000    0.000000     NaN    0.000000   NaN      NaN  \n",
       "25%      20.125000    0.000000    0.000000     NaN    7.910400   NaN      NaN  \n",
       "50%      28.000000    0.000000    0.000000     NaN   14.454200   NaN      NaN  \n",
       "75%      38.000000    1.000000    0.000000     NaN   31.000000   NaN      NaN  \n",
       "max      80.000000    8.000000    6.000000     NaN  512.329200   NaN      NaN  "
      ]
     },
     "metadata": {},
     "output_type": "display_data"
    }
   ],
   "source": [
    "# ================================================================\n",
    "# 📊 4. Descriptive Statistics\n",
    "# ================================================================\n",
    "print(\"Summary Statistics:\\n\")\n",
    "display(df.describe(include='all'))"
   ]
  },
  {
   "cell_type": "code",
   "execution_count": 5,
   "id": "cba573f1-464d-4af4-8d8d-a2dd9005433c",
   "metadata": {},
   "outputs": [
    {
     "name": "stdout",
     "output_type": "stream",
     "text": [
      "NULL VALUES IN DATA: \n",
      "PassengerId      0\n",
      "Survived         0\n",
      "Pclass           0\n",
      "Name             0\n",
      "Sex              0\n",
      "Age            177\n",
      "SibSp            0\n",
      "Parch            0\n",
      "Ticket           0\n",
      "Fare             0\n",
      "Cabin          687\n",
      "Embarked         2\n",
      "dtype: int64 \n",
      "\n",
      "MISSING VALUES HANDLED SUCCESSFULLY \n",
      "\n"
     ]
    }
   ],
   "source": [
    "# ================================================================\n",
    "# 🧹 5. Data Cleaning\n",
    "# ================================================================\n",
    "print(f\"NULL VALUES IN DATA: \\n{df.isnull().sum()} \\n\")\n",
    "df[\"Age\"].fillna(df[\"Age\"].mode()[0] , inplace = True)\n",
    "df[\"Cabin\"].fillna(df[\"Cabin\"].mode()[0] , inplace = True)\n",
    "df[\"Embarked\"].fillna(df[\"Embarked\"].mode()[0] , inplace = True)\n",
    "\n",
    "print(\"MISSING VALUES HANDLED SUCCESSFULLY \\n\")\n"
   ]
  },
  {
   "cell_type": "code",
   "execution_count": 59,
   "id": "6bdc1b9f-85c0-4f53-89c3-fc9b7184247b",
   "metadata": {},
   "outputs": [
    {
     "data": {
      "text/plain": [
       "Survived\n",
       "0    549\n",
       "1    342\n",
       "Name: count, dtype: int64"
      ]
     },
     "execution_count": 59,
     "metadata": {},
     "output_type": "execute_result"
    }
   ],
   "source": [
    "df[\"Survived\"].value_counts()"
   ]
  },
  {
   "cell_type": "code",
   "execution_count": 61,
   "id": "82383099-3391-4e68-90bb-1fe06010f4e6",
   "metadata": {},
   "outputs": [
    {
     "data": {
      "image/png": "[encoded data removed]",
      "text/plain": [
       "<Figure size 600x600 with 1 Axes>"
      ]
     },
     "metadata": {},
     "output_type": "display_data"
    }
   ],
   "source": [
    "# ================================================================\n",
    "# 🌍  Univariate Analysis\n",
    "# ================================================================\n",
    "\n",
    "# 6.⚓ Survival Distribution\n",
    "plt.figure(figsize = (6,6))\n",
    "color = [\"#DDA0DD\" , \"#FA8072\"]\n",
    "plt.pie(df[\"Survived\"].value_counts() , \n",
    "        labels = [\"Not Survived\" , \"Survived\"] , \n",
    "        autopct = \"%1.2f%%\" , \n",
    "        startangle = 90 ,\n",
    "       colors = color)\n",
    "plt.legend([ \"Not survived\",\"Survived\" ])\n",
    "plt.show()"
   ]
  },
  {
   "cell_type": "code",
   "execution_count": 66,
   "id": "629192fa-88d3-4a86-bab6-e3601cc733c3",
   "metadata": {},
   "outputs": [
    {
     "data": {
      "image/png": "[encoded data removed]",
      "text/plain": [
       "<Figure size 500x600 with 1 Axes>"
      ]
     },
     "metadata": {},
     "output_type": "display_data"
    }
   ],
   "source": [
    "# 7. 👩‍🦰 COUNT BY SEX\n",
    "plt.figure(figsize = (5,6))\n",
    "ax = sns.countplot(x = df[\"Sex\"] ,\n",
    "                   data = df , \n",
    "                   color = \"#DDA0DD\",\n",
    "                   edgecolor = \"Black\")\n",
    "ax.bar_label(ax.containers[0])\n",
    "plt.title(\"COUNT BY SEX\")\n",
    "plt.xlabel(\"Sex\")\n",
    "plt.ylabel(\"Count\")\n",
    "plt.show()"
   ]
  },
  {
   "cell_type": "code",
   "execution_count": 31,
   "id": "d3ffb88d-862d-4e1e-a95f-84aad7a4596a",
   "metadata": {},
   "outputs": [
    {
     "data": {
      "image/png": "[encoded data removed]",
      "text/plain": [
       "<Figure size 900x500 with 1 Axes>"
      ]
     },
     "metadata": {},
     "output_type": "display_data"
    }
   ],
   "source": [
    "# 8. 💰 FARE DISTRIBUTION \n",
    "plt.figure(figsize = (9,5))\n",
    "sns.histplot(df[\"Fare\"], kde = True , bins=30 , color = \"Blue\")\n",
    "plt.title(\"Distribution of Fare\")\n",
    "plt.xlabel(\"Fare\")\n",
    "plt.ylabel(\"Count\")\n",
    "plt.show()\n"
   ]
  },
  {
   "cell_type": "code",
   "execution_count": 68,
   "id": "9e31ce0f-b4ae-47a8-983b-0a4c594b59cc",
   "metadata": {},
   "outputs": [
    {
     "data": {
      "image/png": "[encoded data removed]",
      "text/plain": [
       "<Figure size 900x500 with 1 Axes>"
      ]
     },
     "metadata": {},
     "output_type": "display_data"
    }
   ],
   "source": [
    "#9. 🎂 AGE DISTRIBUTION OF PASSENGERS\n",
    "\n",
    "plt.figure(figsize = (9,5))\n",
    "sns.histplot(x = df[\"Age\"] , kde = True , bins = 40,color = \"#FA8072\")\n",
    "plt.title(\"Age Distribution of Passengers\")\n",
    "plt.xlabel(\"Age\")\n",
    "plt.ylabel(\"Count\")\n",
    "plt.show()"
   ]
  },
  {
   "cell_type": "code",
   "execution_count": 55,
   "id": "0f7cd0cb-c4fa-4d30-8d3c-bdfa4059c5b7",
   "metadata": {},
   "outputs": [
    {
     "data": {
      "image/png": "[encoded data removed]",
      "text/plain": [
       "<Figure size 800x500 with 1 Axes>"
      ]
     },
     "metadata": {},
     "output_type": "display_data"
    }
   ],
   "source": [
    "# ================================================================\n",
    "# 🌍 Bivariate Analysis\n",
    "# ================================================================\n",
    "\n",
    "# 10.👩‍🦱 Survival by Gender\n",
    "plt.figure(figsize = (8,5))\n",
    "ax = sns.countplot(x = df[\"Survived\"] , data = df , hue = \"Sex\" ,palette = [\"#DDA0DD\" , \"#FA8072\"])\n",
    "ax.bar_label(ax.containers[0])\n",
    "ax.bar_label(ax.containers[1])\n",
    "plt.title(\"SURVIVAL BY GENDER\")\n",
    "plt.xlabel(\"Survived\")\n",
    "plt.ylabel(\"Passenger Count\")\n",
    "plt.show()\n"
   ]
  },
  {
   "cell_type": "code",
   "execution_count": 54,
   "id": "19e6a3e9-cb25-4ca3-99da-6f0d93d9c634",
   "metadata": {},
   "outputs": [
    {
     "data": {
      "image/png": "[encoded data removed]",
      "text/plain": [
       "<Figure size 800x500 with 1 Axes>"
      ]
     },
     "metadata": {},
     "output_type": "display_data"
    }
   ],
   "source": [
    "# 11.💺 SURVIVAL BY PASSENGER CLASS\n",
    "color = [\"#DDA0DD\" , \"#FA8072\" , \"#90EE90\"]\n",
    "plt.figure(figsize = (8,5))\n",
    "ax = sns.countplot(x = df[\"Survived\"] , \n",
    "                   data = df , \n",
    "                   hue = \"Pclass\" ,\n",
    "                  palette = color)\n",
    "for i in range(3):\n",
    "    ax.bar_label(ax.containers[i])\n",
    "plt.title(\"SURVIVAL BY PASSENGER CLASS\")\n",
    "plt.xlabel(\"Survived \")\n",
    "plt.ylabel(\"Passenger Count\")\n",
    "plt.show()"
   ]
  },
  {
   "cell_type": "code",
   "execution_count": 53,
   "id": "d0170b43-ed3e-4e2e-a4af-5a752fc50fb6",
   "metadata": {},
   "outputs": [
    {
     "data": {
      "image/png": "[encoded data removed]",
      "text/plain": [
       "<Figure size 800x500 with 1 Axes>"
      ]
     },
     "metadata": {},
     "output_type": "display_data"
    }
   ],
   "source": [
    "#12.🧒 AGE VS SURVIVAL DENSITY\n",
    "plt.figure(figsize = (8,5))\n",
    "sns.kdeplot(data=df[df['Survived']==0]['Age'], shade=True, color=\"orange\", label=\"not Survived\", alpha=0.7)\n",
    "sns.kdeplot(data=df[df['Survived']==1]['Age'], shade=True, color=\"green\", label=\"Survived\", alpha=0.3)\n",
    "plt.legend(labels=[\"Not Survived\", \"Survived\" ], title=\"Status\")\n",
    "plt.title(\"Age Distribution by Survival\")\n",
    "plt.xlabel(\"Age\")\n",
    "plt.ylabel(\"Density\")\n",
    "plt.show()\n"
   ]
  },
  {
   "cell_type": "code",
   "execution_count": 74,
   "id": "92920822-b819-42cf-b6fa-69980bf2dcee",
   "metadata": {},
   "outputs": [
    {
     "data": {
      "image/png": "[encoded data removed]",
      "text/plain": [
       "<Figure size 800x600 with 1 Axes>"
      ]
     },
     "metadata": {},
     "output_type": "display_data"
    }
   ],
   "source": [
    "# 13.💰 FARE DISTRIBUTION BY CLASS\n",
    "color = [\"#DDA0DD\" , \"#FA8072\" , \"#90EE90\"]\n",
    "\n",
    "plt.figure(figsize = (8,6))\n",
    "sns.boxplot(data = df , x = \"Pclass\" , y = \"Fare\"  , palette= color )\n",
    "plt.title(\"Fare Distribution Across Passenger Classes\")\n",
    "plt.legend(labels=[\"Class 1\", \"Class 2\" , \"Class 3\"], title=\"Passenger Class\")\n",
    "plt.xlabel(\"Passenger Class\")\n",
    "plt.ylabel(\"Fare\")\n",
    "plt.show()"
   ]
  },
  {
   "cell_type": "code",
   "execution_count": 75,
   "id": "cc4a54a1-c4de-48d6-a6ec-145936be5493",
   "metadata": {},
   "outputs": [
    {
     "data": {
      "text/plain": [
       "<matplotlib.legend.Legend at 0x287c4a2e850>"
      ]
     },
     "execution_count": 75,
     "metadata": {},
     "output_type": "execute_result"
    },
    {
     "data": {
      "image/png": "[encoded data removed]",
      "text/plain": [
       "<Figure size 640x480 with 1 Axes>"
      ]
     },
     "metadata": {},
     "output_type": "display_data"
    }
   ],
   "source": [
    "# 14.🌍 Embarkation Town vs Survival\n",
    "color = [\"#FA8072\" , \"#90EE90\"]\n",
    "sns.countplot(data = df , x = df[\"Embarked\"] , hue = \"Survived\" , edgecolor = \"Black\"  , palette = color) \n",
    "plt.title(\"Embarkation Town vs Survival\")\n",
    "plt.xlabel(\"Embarked Town\")\n",
    "plt.ylabel(\"Passenger Count\")\n",
    "plt.legend(labels=[\"Did Not Survive\", \"Survived\"], title=\"Status\")"
   ]
  },
  {
   "cell_type": "code",
   "execution_count": 72,
   "id": "c51e5472-892b-4d1a-87bc-8c9786795929",
   "metadata": {},
   "outputs": [
    {
     "data": {
      "image/png": "[encoded data removed]",
      "text/plain": [
       "<Figure size 1000x600 with 2 Axes>"
      ]
     },
     "metadata": {},
     "output_type": "display_data"
    }
   ],
   "source": [
    "#15.⚡ Correlation Heatmap (Numeric Variables)\n",
    "col_sel = df.select_dtypes(include= [\"float64\" , \"int64\"])\n",
    "\n",
    "plt.figure(figsize = (10,6))\n",
    "sns.heatmap(col_sel.corr() , annot = True , cmap=\"mako\" , fmt=\".2f\" , linecolor=\"Black\" , linewidths= 1 , cbar_kws={\"shrink\":0.8} )\n",
    "plt.title(\" Correlation Heatmap \")\n",
    "plt.show()"
   ]
  },
  {
   "cell_type": "code",
   "execution_count": 80,
   "id": "45335eb0-89cd-4ac7-a813-dc246d595f60",
   "metadata": {},
   "outputs": [
    {
     "data": {
      "application/vnd.plotly.v1+json": {
       "config": {
        "plotlyServerURL": "https://plot.ly"
       },
       "data": [
        {
         "customdata": [
          [
           "male",
           3,
           "S"
          ],
          [
           "female",
           1,
           "C"
          ],
          [
           "female",
           3,
           "S"
          ],
          [
           "female",
           1,
           "S"
          ],
          [
           "male",
           3,
           "S"
          ],
          [
           "male",
           3,
           "Q"
          ],
          [
           "male",
           1,
           "S"
          ],
          [
           "male",
           3,
           "S"
          ],
          [
           "female",
           3,
           "S"
          ],
          [
           "female",
           2,
           "C"
          ],
          [
           "female",
           3,
           "S"
          ],
          [
           "female",
           1,
           "S"
          ],
          [
           "male",
           3,
           "S"
          ],
          [
           "male",
           3,
           "S"
          ],
          [
           "female",
           3,
           "S"
          ],
          [
           "female",
           2,
           "S"
          ],
          [
           "male",
           3,
           "Q"
          ],
          [
           "male",
           2,
           "S"
          ],
          [
           "female",
           3,
           "S"
          ],
          [
           "female",
           3,
           "C"
          ],
          [
           "male",
           2,
           "S"
          ],
          [
           "male",
           2,
           "S"
          ],
          [
           "female",
           3,
           "Q"
          ],
          [
           "male",
           1,
           "S"
          ],
          [
           "female",
           3,
           "S"
          ],
          [
           "female",
           3,
           "S"
          ],
          [
           "male",
           3,
           "C"
          ],
          [
           "male",
           1,
           "S"
          ],
          [
           "female",
           3,
           "Q"
          ],
          [
           "male",
           3,
           "S"
          ],
          [
           "male",
           1,
           "C"
          ],
          [
           "female",
           1,
           "C"
          ],
          [
           "female",
           3,
           "Q"
          ],
          [
           "male",
           2,
           "S"
          ],
          [
           "male",
           1,
           "C"
          ],
          [
           "male",
           1,
           "S"
          ],
          [
           "male",
           3,
           "C"
          ],
          [
           "male",
           3,
           "S"
          ],
          [
           "female",
           3,
           "S"
          ],
          [
           "female",
           3,
           "C"
          ],
          [
           "female",
           3,
           "S"
          ],
          [
           "female",
           2,
           "S"
          ],
          [
           "male",
           3,
           "C"
          ],
          [
           "female",
           2,
           "C"
          ],
          [
           "female",
           3,
           "Q"
          ],
          [
           "male",
           3,
           "S"
          ],
          [
           "male",
           3,
           "Q"
          ],
          [
           "female",
           3,
           "Q"
          ],
          [
           "male",
           3,
           "C"
          ],
          [
           "female",
           3,
           "S"
          ],
          [
           "male",
           3,
           "S"
          ],
          [
           "male",
           3,
           "S"
          ],
          [
           "female",
           1,
           "C"
          ],
          [
           "female",
           2,
           "S"
          ],
          [
           "male",
           1,
           "C"
          ],
          [
           "male",
           1,
           "S"
          ],
          [
           "female",
           2,
           "S"
          ],
          [
           "male",
           3,
           "C"
          ],
          [
           "female",
           2,
           "S"
          ],
          [
           "male",
           3,
           "S"
          ],
          [
           "male",
           3,
           "C"
          ],
          [
           "female",
           1,
           "S"
          ],
          [
           "male",
           1,
           "S"
          ],
          [
           "male",
           3,
           "S"
          ],
          [
           "male",
           1,
           "C"
          ],
          [
           "male",
           3,
           "C"
          ],
          [
           "female",
           2,
           "S"
          ],
          [
           "male",
           3,
           "S"
          ],
          [
           "female",
           3,
           "S"
          ],
          [
           "male",
           3,
           "S"
          ],
          [
           "male",
           2,
           "S"
          ],
          [
           "female",
           3,
           "S"
          ],
          [
           "male",
           2,
           "S"
          ],
          [
           "male",
           3,
           "C"
          ],
          [
           "male",
           3,
           "S"
          ],
          [
           "male",
           3,
           "S"
          ],
          [
           "male",
           3,
           "S"
          ],
          [
           "male",
           3,
           "S"
          ],
          [
           "male",
           2,
           "S"
          ],
          [
           "female",
           3,
           "S"
          ],
          [
           "male",
           3,
           "S"
          ],
          [
           "male",
           3,
           "S"
          ],
          [
           "female",
           3,
           "Q"
          ],
          [
           "male",
           1,
           "S"
          ],
          [
           "female",
           2,
           "S"
          ],
          [
           "female",
           3,
           "S"
          ],
          [
           "male",
           3,
           "S"
          ],
          [
           "male",
           3,
           "S"
          ],
          [
           "female",
           1,
           "S"
          ],
          [
           "male",
           3,
           "S"
          ],
          [
           "male",
           3,
           "S"
          ],
          [
           "male",
           3,
           "S"
          ],
          [
           "male",
           1,
           "S"
          ],
          [
           "male",
           3,
           "S"
          ],
          [
           "male",
           3,
           "S"
          ],
          [
           "male",
           3,
           "S"
          ],
          [
           "male",
           1,
           "C"
          ],
          [
           "male",
           1,
           "C"
          ],
          [
           "female",
           2,
           "S"
          ],
          [
           "male",
           2,
           "S"
          ],
          [
           "female",
           3,
           "S"
          ],
          [
           "male",
           3,
           "S"
          ],
          [
           "male",
           1,
           "S"
          ],
          [
           "male",
           3,
           "S"
          ],
          [
           "male",
           3,
           "S"
          ],
          [
           "male",
           3,
           "S"
          ],
          [
           "female",
           3,
           "S"
          ],
          [
           "male",
           3,
           "S"
          ],
          [
           "male",
           3,
           "S"
          ],
          [
           "female",
           3,
           "Q"
          ],
          [
           "male",
           1,
           "S"
          ],
          [
           "female",
           3,
           "C"
          ],
          [
           "male",
           3,
           "S"
          ],
          [
           "female",
           3,
           "S"
          ],
          [
           "female",
           3,
           "C"
          ],
          [
           "male",
           3,
           "S"
          ],
          [
           "male",
           3,
           "Q"
          ],
          [
           "male",
           2,
           "S"
          ],
          [
           "male",
           1,
           "C"
          ],
          [
           "female",
           3,
           "S"
          ],
          [
           "male",
           2,
           "S"
          ],
          [
           "male",
           3,
           "S"
          ],
          [
           "male",
           2,
           "C"
          ],
          [
           "female",
           2,
           "S"
          ],
          [
           "male",
           1,
           "S"
          ],
          [
           "male",
           3,
           "C"
          ],
          [
           "male",
           3,
           "Q"
          ],
          [
           "male",
           3,
           "S"
          ],
          [
           "female",
           3,
           "C"
          ],
          [
           "male",
           3,
           "S"
          ],
          [
           "male",
           3,
           "C"
          ],
          [
           "male",
           3,
           "S"
          ],
          [
           "female",
           3,
           "S"
          ],
          [
           "female",
           2,
           "S"
          ],
          [
           "male",
           2,
           "S"
          ],
          [
           "male",
           2,
           "C"
          ],
          [
           "female",
           1,
           "S"
          ],
          [
           "male",
           1,
           "S"
          ],
          [
           "male",
           3,
           "S"
          ],
          [
           "male",
           1,
           "C"
          ],
          [
           "female",
           3,
           "C"
          ],
          [
           "female",
           3,
           "S"
          ],
          [
           "female",
           3,
           "S"
          ],
          [
           "male",
           3,
           "Q"
          ],
          [
           "male",
           2,
           "S"
          ],
          [
           "male",
           2,
           "S"
          ],
          [
           "male",
           3,
           "S"
          ],
          [
           "female",
           3,
           "S"
          ],
          [
           "male",
           2,
           "S"
          ],
          [
           "male",
           2,
           "S"
          ],
          [
           "male",
           2,
           "S"
          ],
          [
           "female",
           1,
           "S"
          ],
          [
           "male",
           3,
           "S"
          ],
          [
           "male",
           3,
           "S"
          ],
          [
           "male",
           3,
           "S"
          ],
          [
           "male",
           1,
           "C"
          ],
          [
           "female",
           3,
           "Q"
          ],
          [
           "male",
           3,
           "S"
          ],
          [
           "male",
           3,
           "S"
          ],
          [
           "male",
           3,
           "S"
          ],
          [
           "male",
           3,
           "S"
          ],
          [
           "female",
           2,
           "S"
          ],
          [
           "male",
           3,
           "S"
          ],
          [
           "male",
           3,
           "S"
          ],
          [
           "male",
           3,
           "S"
          ],
          [
           "male",
           3,
           "S"
          ],
          [
           "female",
           1,
           "S"
          ],
          [
           "female",
           3,
           "S"
          ],
          [
           "male",
           1,
           "S"
          ],
          [
           "male",
           3,
           "S"
          ],
          [
           "male",
           1,
           "S"
          ],
          [
           "male",
           3,
           "Q"
          ],
          [
           "female",
           3,
           "S"
          ],
          [
           "male",
           3,
           "S"
          ],
          [
           "male",
           1,
           "C"
          ],
          [
           "male",
           3,
           "S"
          ],
          [
           "male",
           3,
           "S"
          ],
          [
           "female",
           1,
           "C"
          ],
          [
           "male",
           2,
           "S"
          ],
          [
           "male",
           3,
           "S"
          ],
          [
           "female",
           3,
           "S"
          ],
          [
           "male",
           2,
           "C"
          ],
          [
           "male",
           3,
           "S"
          ],
          [
           "male",
           2,
           "S"
          ],
          [
           "female",
           3,
           "S"
          ],
          [
           "male",
           1,
           "S"
          ],
          [
           "female",
           3,
           "Q"
          ],
          [
           "male",
           1,
           "S"
          ],
          [
           "male",
           3,
           "Q"
          ],
          [
           "male",
           3,
           "S"
          ],
          [
           "female",
           2,
           "S"
          ],
          [
           "male",
           2,
           "S"
          ],
          [
           "female",
           3,
           "S"
          ],
          [
           "male",
           2,
           "S"
          ],
          [
           "female",
           1,
           "C"
          ],
          [
           "female",
           1,
           "C"
          ],
          [
           "male",
           3,
           "Q"
          ],
          [
           "male",
           3,
           "S"
          ],
          [
           "female",
           3,
           "Q"
          ],
          [
           "female",
           2,
           "S"
          ],
          [
           "male",
           3,
           "S"
          ],
          [
           "male",
           3,
           "S"
          ],
          [
           "male",
           3,
           "S"
          ],
          [
           "male",
           3,
           "C"
          ],
          [
           "male",
           3,
           "S"
          ],
          [
           "female",
           3,
           "S"
          ],
          [
           "male",
           3,
           "S"
          ],
          [
           "male",
           3,
           "C"
          ],
          [
           "female",
           3,
           "Q"
          ],
          [
           "male",
           1,
           "C"
          ],
          [
           "male",
           3,
           "S"
          ],
          [
           "female",
           2,
           "S"
          ],
          [
           "male",
           3,
           "S"
          ],
          [
           "male",
           2,
           "S"
          ],
          [
           "male",
           3,
           "Q"
          ],
          [
           "female",
           1,
           "C"
          ],
          [
           "female",
           3,
           "S"
          ],
          [
           "male",
           2,
           "S"
          ],
          [
           "female",
           1,
           "C"
          ],
          [
           "male",
           2,
           "S"
          ],
          [
           "male",
           3,
           "S"
          ],
          [
           "male",
           2,
           "S"
          ],
          [
           "male",
           3,
           "S"
          ],
          [
           "male",
           3,
           "S"
          ],
          [
           "male",
           1,
           "S"
          ],
          [
           "male",
           3,
           "S"
          ],
          [
           "male",
           2,
           "S"
          ],
          [
           "male",
           3,
           "S"
          ],
          [
           "male",
           2,
           "S"
          ],
          [
           "female",
           3,
           "S"
          ],
          [
           "female",
           1,
           "S"
          ],
          [
           "male",
           3,
           "S"
          ],
          [
           "male",
           2,
           "S"
          ],
          [
           "female",
           3,
           "S"
          ],
          [
           "male",
           2,
           "S"
          ],
          [
           "female",
           3,
           "S"
          ],
          [
           "male",
           2,
           "S"
          ],
          [
           "female",
           2,
           "S"
          ],
          [
           "male",
           2,
           "S"
          ],
          [
           "male",
           2,
           "S"
          ],
          [
           "female",
           3,
           "C"
          ],
          [
           "female",
           3,
           "Q"
          ],
          [
           "male",
           2,
           "S"
          ],
          [
           "male",
           3,
           "S"
          ],
          [
           "male",
           3,
           "C"
          ],
          [
           "male",
           1,
           "Q"
          ],
          [
           "female",
           3,
           "S"
          ],
          [
           "female",
           2,
           "S"
          ],
          [
           "male",
           1,
           "S"
          ],
          [
           "male",
           2,
           "S"
          ],
          [
           "male",
           3,
           "S"
          ],
          [
           "female",
           3,
           "S"
          ],
          [
           "male",
           1,
           "S"
          ],
          [
           "male",
           3,
           "S"
          ],
          [
           "female",
           3,
           "S"
          ],
          [
           "female",
           3,
           "C"
          ],
          [
           "female",
           1,
           "C"
          ],
          [
           "female",
           1,
           "S"
          ],
          [
           "female",
           1,
           "C"
          ],
          [
           "female",
           2,
           "S"
          ],
          [
           "male",
           3,
           "Q"
          ],
          [
           "male",
           3,
           "S"
          ],
          [
           "male",
           1,
           "S"
          ],
          [
           "male",
           1,
           "S"
          ],
          [
           "female",
           3,
           "Q"
          ],
          [
           "male",
           2,
           "S"
          ],
          [
           "male",
           3,
           "S"
          ],
          [
           "male",
           3,
           "S"
          ],
          [
           "female",
           1,
           "S"
          ],
          [
           "female",
           1,
           "S"
          ],
          [
           "male",
           1,
           "S"
          ],
          [
           "male",
           3,
           "S"
          ],
          [
           "female",
           2,
           "S"
          ],
          [
           "male",
           1,
           "C"
          ],
          [
           "female",
           3,
           "Q"
          ],
          [
           "female",
           1,
           "S"
          ],
          [
           "female",
           3,
           "S"
          ],
          [
           "male",
           2,
           "S"
          ],
          [
           "male",
           3,
           "Q"
          ],
          [
           "female",
           3,
           "S"
          ],
          [
           "male",
           3,
           "Q"
          ],
          [
           "male",
           3,
           "S"
          ],
          [
           "male",
           3,
           "S"
          ],
          [
           "male",
           3,
           "S"
          ],
          [
           "male",
           1,
           "S"
          ],
          [
           "male",
           3,
           "C"
          ],
          [
           "male",
           3,
           "S"
          ],
          [
           "male",
           3,
           "S"
          ],
          [
           "male",
           2,
           "S"
          ],
          [
           "female",
           3,
           "Q"
          ],
          [
           "female",
           1,
           "S"
          ],
          [
           "female",
           1,
           "C"
          ],
          [
           "male",
           2,
           "C"
          ],
          [
           "female",
           3,
           "S"
          ],
          [
           "male",
           3,
           "S"
          ],
          [
           "male",
           1,
           "C"
          ],
          [
           "male",
           3,
           "C"
          ],
          [
           "female",
           1,
           "S"
          ],
          [
           "male",
           1,
           "S"
          ],
          [
           "female",
           1,
           "C"
          ],
          [
           "female",
           3,
           "Q"
          ],
          [
           "male",
           3,
           "Q"
          ],
          [
           "male",
           3,
           "S"
          ],
          [
           "female",
           2,
           "Q"
          ],
          [
           "male",
           3,
           "S"
          ],
          [
           "male",
           1,
           "S"
          ],
          [
           "female",
           1,
           "C"
          ],
          [
           "female",
           1,
           "C"
          ],
          [
           "male",
           2,
           "C"
          ],
          [
           "female",
           1,
           "C"
          ],
          [
           "female",
           1,
           "C"
          ],
          [
           "female",
           1,
           "C"
          ],
          [
           "female",
           2,
           "S"
          ],
          [
           "male",
           3,
           "S"
          ],
          [
           "male",
           2,
           "S"
          ],
          [
           "female",
           3,
           "S"
          ],
          [
           "female",
           2,
           "S"
          ],
          [
           "male",
           2,
           "S"
          ],
          [
           "female",
           1,
           "S"
          ],
          [
           "female",
           1,
           "C"
          ],
          [
           "male",
           3,
           "S"
          ],
          [
           "male",
           3,
           "S"
          ],
          [
           "female",
           2,
           "Q"
          ],
          [
           "female",
           2,
           "S"
          ],
          [
           "male",
           3,
           "S"
          ],
          [
           "female",
           1,
           "C"
          ],
          [
           "male",
           3,
           "S"
          ],
          [
           "female",
           2,
           "S"
          ],
          [
           "female",
           3,
           "S"
          ],
          [
           "female",
           1,
           "C"
          ],
          [
           "female",
           3,
           "Q"
          ],
          [
           "male",
           1,
           "S"
          ],
          [
           "male",
           1,
           "S"
          ],
          [
           "male",
           3,
           "S"
          ],
          [
           "female",
           1,
           "S"
          ],
          [
           "male",
           3,
           "S"
          ],
          [
           "male",
           1,
           "S"
          ],
          [
           "female",
           1,
           "C"
          ],
          [
           "male",
           3,
           "S"
          ],
          [
           "male",
           1,
           "S"
          ],
          [
           "male",
           2,
           "S"
          ],
          [
           "female",
           1,
           "S"
          ],
          [
           "male",
           2,
           "S"
          ],
          [
           "male",
           2,
           "S"
          ],
          [
           "male",
           2,
           "S"
          ],
          [
           "female",
           2,
           "S"
          ],
          [
           "female",
           2,
           "S"
          ],
          [
           "female",
           3,
           "S"
          ],
          [
           "male",
           3,
           "S"
          ],
          [
           "male",
           3,
           "S"
          ],
          [
           "male",
           3,
           "S"
          ],
          [
           "male",
           1,
           "S"
          ],
          [
           "male",
           3,
           "C"
          ],
          [
           "male",
           3,
           "S"
          ],
          [
           "male",
           3,
           "C"
          ],
          [
           "male",
           3,
           "S"
          ],
          [
           "female",
           1,
           "S"
          ],
          [
           "female",
           2,
           "S"
          ],
          [
           "female",
           3,
           "Q"
          ],
          [
           "female",
           3,
           "Q"
          ],
          [
           "male",
           3,
           "S"
          ],
          [
           "male",
           2,
           "C"
          ],
          [
           "female",
           3,
           "C"
          ],
          [
           "male",
           3,
           "S"
          ],
          [
           "male",
           3,
           "Q"
          ],
          [
           "male",
           3,
           "S"
          ],
          [
           "female",
           1,
           "C"
          ],
          [
           "female",
           3,
           "C"
          ],
          [
           "female",
           3,
           "Q"
          ],
          [
           "female",
           1,
           "C"
          ],
          [
           "male",
           1,
           "C"
          ],
          [
           "male",
           3,
           "S"
          ],
          [
           "male",
           3,
           "S"
          ],
          [
           "male",
           1,
           "C"
          ],
          [
           "female",
           3,
           "S"
          ],
          [
           "female",
           1,
           "C"
          ],
          [
           "female",
           3,
           "S"
          ],
          [
           "male",
           1,
           "C"
          ],
          [
           "male",
           3,
           "C"
          ],
          [
           "male",
           3,
           "S"
          ],
          [
           "female",
           1,
           "C"
          ],
          [
           "female",
           3,
           "C"
          ],
          [
           "male",
           3,
           "S"
          ],
          [
           "female",
           1,
           "S"
          ],
          [
           "male",
           3,
           "S"
          ],
          [
           "male",
           2,
           "S"
          ],
          [
           "male",
           3,
           "S"
          ],
          [
           "female",
           2,
           "S"
          ],
          [
           "male",
           3,
           "Q"
          ],
          [
           "female",
           2,
           "C"
          ],
          [
           "male",
           1,
           "S"
          ],
          [
           "male",
           3,
           "S"
          ],
          [
           "male",
           3,
           "S"
          ],
          [
           "female",
           1,
           "C"
          ],
          [
           "female",
           3,
           "S"
          ],
          [
           "male",
           3,
           "S"
          ],
          [
           "female",
           3,
           "S"
          ],
          [
           "male",
           2,
           "S"
          ],
          [
           "male",
           2,
           "S"
          ],
          [
           "female",
           2,
           "S"
          ],
          [
           "male",
           3,
           "S"
          ],
          [
           "male",
           3,
           "S"
          ],
          [
           "female",
           3,
           "S"
          ],
          [
           "male",
           3,
           "S"
          ],
          [
           "female",
           3,
           "S"
          ],
          [
           "male",
           2,
           "S"
          ],
          [
           "male",
           3,
           "S"
          ],
          [
           "male",
           2,
           "S"
          ],
          [
           "male",
           3,
           "S"
          ],
          [
           "female",
           3,
           "S"
          ],
          [
           "male",
           3,
           "S"
          ],
          [
           "male",
           3,
           "Q"
          ],
          [
           "female",
           1,
           "Q"
          ],
          [
           "male",
           2,
           "S"
          ],
          [
           "male",
           3,
           "S"
          ],
          [
           "female",
           3,
           "S"
          ],
          [
           "female",
           2,
           "S"
          ],
          [
           "female",
           2,
           "S"
          ],
          [
           "male",
           2,
           "S"
          ],
          [
           "female",
           3,
           "S"
          ],
          [
           "male",
           3,
           "C"
          ],
          [
           "male",
           3,
           "Q"
          ],
          [
           "male",
           3,
           "S"
          ],
          [
           "female",
           3,
           "S"
          ],
          [
           "male",
           3,
           "S"
          ],
          [
           "male",
           3,
           "S"
          ],
          [
           "female",
           2,
           "S"
          ],
          [
           "female",
           2,
           "S"
          ],
          [
           "male",
           3,
           "Q"
          ],
          [
           "male",
           3,
           "S"
          ],
          [
           "male",
           1,
           "S"
          ],
          [
           "female",
           3,
           "S"
          ],
          [
           "female",
           2,
           "S"
          ],
          [
           "male",
           3,
           "S"
          ],
          [
           "male",
           1,
           "S"
          ],
          [
           "female",
           1,
           "S"
          ],
          [
           "female",
           3,
           "S"
          ],
          [
           "female",
           2,
           "S"
          ],
          [
           "male",
           1,
           "S"
          ],
          [
           "male",
           2,
           "S"
          ],
          [
           "female",
           2,
           "S"
          ],
          [
           "male",
           3,
           "S"
          ],
          [
           "male",
           3,
           "S"
          ],
          [
           "female",
           2,
           "S"
          ],
          [
           "male",
           3,
           "S"
          ],
          [
           "male",
           1,
           "S"
          ],
          [
           "female",
           2,
           "S"
          ],
          [
           "male",
           1,
           "S"
          ],
          [
           "female",
           3,
           "C"
          ],
          [
           "male",
           1,
           "S"
          ],
          [
           "male",
           2,
           "S"
          ],
          [
           "male",
           3,
           "S"
          ],
          [
           "male",
           1,
           "C"
          ],
          [
           "male",
           1,
           "C"
          ],
          [
           "male",
           3,
           "S"
          ],
          [
           "male",
           3,
           "C"
          ],
          [
           "male",
           1,
           "S"
          ],
          [
           "female",
           1,
           "S"
          ],
          [
           "female",
           2,
           "S"
          ],
          [
           "male",
           3,
           "Q"
          ],
          [
           "male",
           1,
           "S"
          ],
          [
           "male",
           3,
           "S"
          ],
          [
           "male",
           1,
           "S"
          ],
          [
           "male",
           2,
           "S"
          ],
          [
           "male",
           3,
           "S"
          ],
          [
           "male",
           3,
           "S"
          ],
          [
           "male",
           2,
           "S"
          ],
          [
           "male",
           1,
           "S"
          ],
          [
           "male",
           3,
           "Q"
          ],
          [
           "female",
           3,
           "C"
          ],
          [
           "male",
           3,
           "S"
          ],
          [
           "male",
           3,
           "S"
          ],
          [
           "female",
           2,
           "S"
          ],
          [
           "female",
           2,
           "C"
          ],
          [
           "female",
           3,
           "S"
          ],
          [
           "male",
           1,
           "S"
          ],
          [
           "male",
           2,
           "S"
          ],
          [
           "male",
           3,
           "S"
          ],
          [
           "male",
           3,
           "S"
          ],
          [
           "female",
           3,
           "S"
          ],
          [
           "male",
           3,
           "S"
          ],
          [
           "male",
           2,
           "S"
          ],
          [
           "male",
           3,
           "S"
          ],
          [
           "female",
           3,
           "S"
          ],
          [
           "male",
           1,
           "C"
          ],
          [
           "female",
           3,
           "S"
          ],
          [
           "female",
           1,
           "S"
          ],
          [
           "male",
           1,
           "C"
          ],
          [
           "male",
           3,
           "S"
          ],
          [
           "male",
           3,
           "S"
          ],
          [
           "male",
           3,
           "S"
          ],
          [
           "male",
           3,
           "S"
          ],
          [
           "male",
           1,
           "S"
          ],
          [
           "male",
           1,
           "C"
          ],
          [
           "male",
           3,
           "S"
          ],
          [
           "male",
           3,
           "C"
          ],
          [
           "female",
           1,
           "C"
          ],
          [
           "male",
           3,
           "S"
          ],
          [
           "female",
           1,
           "S"
          ],
          [
           "male",
           3,
           "S"
          ],
          [
           "male",
           3,
           "S"
          ],
          [
           "female",
           3,
           "Q"
          ],
          [
           "female",
           3,
           "Q"
          ],
          [
           "female",
           3,
           "S"
          ],
          [
           "female",
           1,
           "S"
          ],
          [
           "male",
           1,
           "C"
          ],
          [
           "female",
           2,
           "S"
          ],
          [
           "male",
           1,
           "S"
          ],
          [
           "male",
           3,
           "S"
          ],
          [
           "male",
           3,
           "S"
          ],
          [
           "male",
           3,
           "Q"
          ],
          [
           "male",
           3,
           "S"
          ],
          [
           "male",
           1,
           "S"
          ],
          [
           "female",
           1,
           "C"
          ],
          [
           "male",
           3,
           "S"
          ],
          [
           "male",
           1,
           "S"
          ],
          [
           "female",
           2,
           "S"
          ],
          [
           "male",
           3,
           "Q"
          ],
          [
           "female",
           2,
           "S"
          ],
          [
           "male",
           3,
           "S"
          ],
          [
           "female",
           1,
           "S"
          ],
          [
           "male",
           3,
           "S"
          ],
          [
           "male",
           3,
           "C"
          ],
          [
           "female",
           1,
           "C"
          ],
          [
           "male",
           3,
           "C"
          ],
          [
           "male",
           3,
           "Q"
          ],
          [
           "female",
           2,
           "S"
          ],
          [
           "male",
           1,
           "S"
          ],
          [
           "male",
           3,
           "S"
          ],
          [
           "male",
           2,
           "S"
          ],
          [
           "female",
           2,
           "S"
          ],
          [
           "male",
           3,
           "C"
          ],
          [
           "male",
           3,
           "C"
          ],
          [
           "female",
           3,
           "C"
          ],
          [
           "female",
           3,
           "S"
          ],
          [
           "female",
           2,
           "S"
          ],
          [
           "male",
           1,
           "S"
          ],
          [
           "female",
           1,
           "C"
          ],
          [
           "male",
           3,
           "S"
          ],
          [
           "female",
           1,
           "C"
          ],
          [
           "female",
           1,
           "S"
          ],
          [
           "female",
           3,
           "S"
          ],
          [
           "female",
           3,
           "S"
          ],
          [
           "male",
           2,
           "S"
          ],
          [
           "male",
           1,
           "C"
          ],
          [
           "male",
           1,
           "S"
          ],
          [
           "female",
           2,
           "S"
          ],
          [
           "male",
           2,
           "C"
          ],
          [
           "male",
           3,
           "S"
          ],
          [
           "male",
           2,
           "S"
          ],
          [
           "male",
           1,
           "C"
          ],
          [
           "male",
           2,
           "S"
          ],
          [
           "male",
           3,
           "Q"
          ],
          [
           "male",
           3,
           "C"
          ],
          [
           "female",
           3,
           "S"
          ],
          [
           "male",
           1,
           "S"
          ],
          [
           "female",
           1,
           "C"
          ],
          [
           "male",
           1,
           "C"
          ],
          [
           "female",
           1,
           "S"
          ],
          [
           "female",
           3,
           "S"
          ],
          [
           "male",
           3,
           "Q"
          ],
          [
           "male",
           3,
           "S"
          ],
          [
           "male",
           2,
           "S"
          ],
          [
           "male",
           3,
           "S"
          ],
          [
           "female",
           3,
           "S"
          ],
          [
           "male",
           3,
           "S"
          ],
          [
           "male",
           3,
           "S"
          ],
          [
           "female",
           3,
           "S"
          ],
          [
           "male",
           3,
           "C"
          ],
          [
           "male",
           3,
           "S"
          ],
          [
           "male",
           2,
           "S"
          ],
          [
           "female",
           1,
           "S"
          ],
          [
           "male",
           1,
           "S"
          ],
          [
           "female",
           3,
           "Q"
          ],
          [
           "male",
           3,
           "S"
          ],
          [
           "male",
           3,
           "S"
          ],
          [
           "female",
           2,
           "S"
          ],
          [
           "female",
           1,
           "S"
          ],
          [
           "female",
           3,
           "C"
          ],
          [
           "male",
           3,
           "S"
          ],
          [
           "female",
           2,
           "S"
          ],
          [
           "female",
           1,
           "C"
          ],
          [
           "male",
           2,
           "S"
          ],
          [
           "male",
           1,
           "C"
          ],
          [
           "male",
           3,
           "C"
          ],
          [
           "female",
           1,
           "S"
          ],
          [
           "male",
           2,
           "S"
          ],
          [
           "male",
           1,
           "C"
          ],
          [
           "male",
           3,
           "S"
          ],
          [
           "male",
           3,
           "S"
          ],
          [
           "male",
           3,
           "S"
          ],
          [
           "female",
           1,
           "C"
          ],
          [
           "male",
           3,
           "S"
          ],
          [
           "female",
           3,
           "Q"
          ],
          [
           "male",
           2,
           "S"
          ],
          [
           "male",
           3,
           "S"
          ],
          [
           "female",
           2,
           "S"
          ],
          [
           "male",
           3,
           "S"
          ],
          [
           "male",
           3,
           "C"
          ],
          [
           "male",
           1,
           "C"
          ],
          [
           "female",
           2,
           "S"
          ],
          [
           "male",
           3,
           "S"
          ],
          [
           "male",
           1,
           "S"
          ],
          [
           "male",
           3,
           "S"
          ],
          [
           "male",
           1,
           "C"
          ],
          [
           "male",
           3,
           "S"
          ],
          [
           "male",
           3,
           "S"
          ],
          [
           "male",
           1,
           "S"
          ],
          [
           "female",
           2,
           "C"
          ],
          [
           "female",
           1,
           "S"
          ],
          [
           "female",
           3,
           "S"
          ],
          [
           "male",
           3,
           "S"
          ],
          [
           "female",
           3,
           "Q"
          ],
          [
           "male",
           3,
           "Q"
          ],
          [
           "male",
           3,
           "S"
          ],
          [
           "female",
           2,
           "S"
          ],
          [
           "male",
           3,
           "S"
          ],
          [
           "female",
           3,
           "S"
          ],
          [
           "female",
           2,
           "S"
          ],
          [
           "male",
           2,
           "S"
          ],
          [
           "male",
           3,
           "C"
          ],
          [
           "male",
           1,
           "S"
          ],
          [
           "male",
           3,
           "C"
          ],
          [
           "male",
           3,
           "S"
          ],
          [
           "male",
           3,
           "S"
          ],
          [
           "male",
           1,
           "S"
          ],
          [
           "male",
           2,
           "Q"
          ],
          [
           "female",
           1,
           "S"
          ],
          [
           "male",
           3,
           "S"
          ],
          [
           "male",
           3,
           "Q"
          ],
          [
           "male",
           1,
           "S"
          ],
          [
           "male",
           3,
           "S"
          ],
          [
           "male",
           1,
           "C"
          ],
          [
           "male",
           1,
           "S"
          ],
          [
           "female",
           3,
           "S"
          ],
          [
           "female",
           2,
           "S"
          ],
          [
           "male",
           3,
           "S"
          ],
          [
           "male",
           2,
           "S"
          ],
          [
           "female",
           3,
           "S"
          ],
          [
           "male",
           3,
           "S"
          ],
          [
           "male",
           3,
           "S"
          ],
          [
           "female",
           1,
           "C"
          ],
          [
           "female",
           3,
           "S"
          ],
          [
           "male",
           3,
           "S"
          ],
          [
           "female",
           3,
           "C"
          ],
          [
           "male",
           1,
           "C"
          ],
          [
           "male",
           3,
           "S"
          ],
          [
           "male",
           1,
           "C"
          ],
          [
           "male",
           3,
           "S"
          ],
          [
           "female",
           3,
           "S"
          ],
          [
           "male",
           3,
           "S"
          ],
          [
           "female",
           2,
           "S"
          ],
          [
           "male",
           3,
           "S"
          ],
          [
           "female",
           3,
           "Q"
          ],
          [
           "female",
           3,
           "Q"
          ],
          [
           "male",
           2,
           "S"
          ],
          [
           "male",
           3,
           "S"
          ],
          [
           "female",
           3,
           "Q"
          ],
          [
           "male",
           2,
           "S"
          ],
          [
           "male",
           1,
           "C"
          ],
          [
           "male",
           1,
           "S"
          ],
          [
           "male",
           3,
           "C"
          ],
          [
           "male",
           1,
           "S"
          ],
          [
           "male",
           3,
           "S"
          ],
          [
           "male",
           3,
           "S"
          ],
          [
           "male",
           2,
           "S"
          ],
          [
           "male",
           2,
           "S"
          ],
          [
           "male",
           3,
           "S"
          ],
          [
           "male",
           3,
           "S"
          ],
          [
           "female",
           1,
           "S"
          ],
          [
           "female",
           2,
           "S"
          ],
          [
           "male",
           1,
           "S"
          ],
          [
           "male",
           2,
           "S"
          ],
          [
           "male",
           2,
           "S"
          ],
          [
           "male",
           2,
           "S"
          ],
          [
           "male",
           3,
           "S"
          ],
          [
           "male",
           3,
           "S"
          ],
          [
           "female",
           3,
           "S"
          ],
          [
           "female",
           3,
           "S"
          ],
          [
           "male",
           1,
           "C"
          ],
          [
           "female",
           3,
           "Q"
          ],
          [
           "male",
           1,
           "C"
          ],
          [
           "male",
           3,
           "S"
          ],
          [
           "male",
           3,
           "S"
          ],
          [
           "male",
           2,
           "S"
          ],
          [
           "male",
           2,
           "C"
          ],
          [
           "male",
           3,
           "S"
          ],
          [
           "male",
           3,
           "S"
          ],
          [
           "male",
           3,
           "S"
          ],
          [
           "female",
           1,
           "S"
          ],
          [
           "male",
           1,
           "S"
          ],
          [
           "female",
           3,
           "C"
          ],
          [
           "male",
           3,
           "S"
          ],
          [
           "male",
           3,
           "C"
          ],
          [
           "male",
           1,
           "S"
          ],
          [
           "male",
           2,
           "S"
          ],
          [
           "male",
           3,
           "S"
          ],
          [
           "female",
           3,
           "Q"
          ],
          [
           "male",
           1,
           "C"
          ],
          [
           "male",
           3,
           "S"
          ],
          [
           "female",
           1,
           "C"
          ],
          [
           "male",
           1,
           "S"
          ],
          [
           "female",
           3,
           "C"
          ],
          [
           "male",
           3,
           "Q"
          ],
          [
           "male",
           3,
           "S"
          ],
          [
           "male",
           2,
           "S"
          ],
          [
           "female",
           2,
           "S"
          ],
          [
           "male",
           1,
           "S"
          ],
          [
           "female",
           1,
           "S"
          ],
          [
           "male",
           3,
           "C"
          ],
          [
           "female",
           1,
           "C"
          ],
          [
           "male",
           1,
           "S"
          ],
          [
           "male",
           1,
           "S"
          ],
          [
           "male",
           3,
           "S"
          ],
          [
           "male",
           2,
           "S"
          ],
          [
           "male",
           3,
           "S"
          ],
          [
           "female",
           1,
           "C"
          ],
          [
           "female",
           2,
           "S"
          ],
          [
           "male",
           3,
           "Q"
          ],
          [
           "male",
           3,
           "S"
          ],
          [
           "female",
           2,
           "S"
          ],
          [
           "male",
           3,
           "S"
          ],
          [
           "male",
           2,
           "S"
          ],
          [
           "male",
           2,
           "S"
          ],
          [
           "male",
           1,
           "S"
          ],
          [
           "male",
           3,
           "S"
          ],
          [
           "female",
           2,
           "S"
          ],
          [
           "female",
           3,
           "Q"
          ],
          [
           "male",
           2,
           "S"
          ],
          [
           "female",
           3,
           "S"
          ],
          [
           "female",
           1,
           "S"
          ],
          [
           "male",
           3,
           "C"
          ],
          [
           "male",
           2,
           "S"
          ],
          [
           "male",
           2,
           "S"
          ],
          [
           "male",
           2,
           "S"
          ],
          [
           "male",
           3,
           "S"
          ],
          [
           "female",
           3,
           "S"
          ],
          [
           "male",
           1,
           "C"
          ],
          [
           "male",
           3,
           "S"
          ],
          [
           "male",
           3,
           "S"
          ],
          [
           "male",
           1,
           "S"
          ],
          [
           "male",
           1,
           "S"
          ],
          [
           "female",
           1,
           "C"
          ],
          [
           "male",
           3,
           "S"
          ],
          [
           "male",
           3,
           "S"
          ],
          [
           "male",
           1,
           "S"
          ],
          [
           "male",
           3,
           "S"
          ],
          [
           "female",
           2,
           "S"
          ],
          [
           "male",
           1,
           "S"
          ],
          [
           "male",
           3,
           "Q"
          ],
          [
           "female",
           2,
           "S"
          ],
          [
           "male",
           3,
           "S"
          ],
          [
           "male",
           3,
           "S"
          ],
          [
           "male",
           3,
           "S"
          ],
          [
           "female",
           2,
           "S"
          ],
          [
           "male",
           2,
           "S"
          ],
          [
           "male",
           3,
           "S"
          ],
          [
           "male",
           2,
           "S"
          ],
          [
           "male",
           3,
           "S"
          ],
          [
           "female",
           1,
           "S"
          ],
          [
           "male",
           3,
           "S"
          ],
          [
           "male",
           3,
           "S"
          ],
          [
           "male",
           3,
           "C"
          ],
          [
           "female",
           1,
           "S"
          ],
          [
           "male",
           3,
           "S"
          ],
          [
           "female",
           1,
           "S"
          ],
          [
           "male",
           1,
           "C"
          ],
          [
           "female",
           3,
           "Q"
          ],
          [
           "male",
           3,
           "Q"
          ],
          [
           "male",
           3,
           "S"
          ],
          [
           "male",
           3,
           "S"
          ],
          [
           "male",
           3,
           "S"
          ],
          [
           "female",
           2,
           "S"
          ],
          [
           "male",
           3,
           "C"
          ],
          [
           "female",
           2,
           "S"
          ],
          [
           "male",
           3,
           "S"
          ],
          [
           "male",
           3,
           "Q"
          ],
          [
           "female",
           3,
           "S"
          ],
          [
           "male",
           3,
           "Q"
          ],
          [
           "female",
           1,
           "S"
          ],
          [
           "female",
           3,
           "C"
          ],
          [
           "female",
           1,
           "S"
          ],
          [
           "male",
           1,
           "S"
          ],
          [
           "male",
           3,
           "S"
          ],
          [
           "male",
           3,
           "S"
          ],
          [
           "male",
           3,
           "S"
          ],
          [
           "female",
           3,
           "S"
          ],
          [
           "male",
           3,
           "Q"
          ],
          [
           "male",
           3,
           "S"
          ],
          [
           "male",
           1,
           "C"
          ],
          [
           "male",
           3,
           "Q"
          ],
          [
           "male",
           2,
           "S"
          ],
          [
           "female",
           3,
           "S"
          ],
          [
           "male",
           1,
           "C"
          ],
          [
           "male",
           3,
           "S"
          ],
          [
           "male",
           2,
           "S"
          ],
          [
           "female",
           1,
           "S"
          ],
          [
           "female",
           3,
           "S"
          ],
          [
           "male",
           3,
           "C"
          ],
          [
           "female",
           3,
           "S"
          ],
          [
           "male",
           2,
           "S"
          ],
          [
           "female",
           2,
           "S"
          ],
          [
           "male",
           1,
           "S"
          ],
          [
           "male",
           3,
           "C"
          ],
          [
           "male",
           3,
           "S"
          ],
          [
           "male",
           3,
           "S"
          ],
          [
           "male",
           1,
           "S"
          ],
          [
           "female",
           3,
           "S"
          ],
          [
           "male",
           2,
           "S"
          ],
          [
           "female",
           1,
           "S"
          ],
          [
           "male",
           3,
           "S"
          ],
          [
           "male",
           3,
           "S"
          ],
          [
           "male",
           2,
           "S"
          ],
          [
           "female",
           3,
           "S"
          ],
          [
           "male",
           3,
           "S"
          ],
          [
           "male",
           1,
           "S"
          ],
          [
           "female",
           3,
           "S"
          ],
          [
           "male",
           2,
           "C"
          ],
          [
           "male",
           3,
           "S"
          ],
          [
           "male",
           3,
           "S"
          ],
          [
           "female",
           1,
           "S"
          ],
          [
           "male",
           3,
           "S"
          ],
          [
           "male",
           1,
           "S"
          ],
          [
           "female",
           3,
           "S"
          ],
          [
           "male",
           3,
           "S"
          ],
          [
           "male",
           3,
           "Q"
          ],
          [
           "male",
           3,
           "S"
          ],
          [
           "male",
           2,
           "C"
          ],
          [
           "male",
           3,
           "Q"
          ],
          [
           "female",
           1,
           "S"
          ],
          [
           "female",
           3,
           "C"
          ],
          [
           "male",
           2,
           "S"
          ],
          [
           "male",
           3,
           "C"
          ],
          [
           "male",
           3,
           "S"
          ],
          [
           "male",
           3,
           "S"
          ],
          [
           "female",
           1,
           "C"
          ],
          [
           "male",
           3,
           "S"
          ],
          [
           "male",
           3,
           "S"
          ],
          [
           "male",
           3,
           "S"
          ],
          [
           "male",
           1,
           "C"
          ],
          [
           "male",
           3,
           "S"
          ],
          [
           "male",
           2,
           "S"
          ],
          [
           "female",
           1,
           "C"
          ],
          [
           "male",
           3,
           "C"
          ],
          [
           "male",
           3,
           "S"
          ],
          [
           "male",
           3,
           "S"
          ],
          [
           "male",
           3,
           "S"
          ],
          [
           "male",
           3,
           "C"
          ],
          [
           "male",
           2,
           "S"
          ],
          [
           "female",
           1,
           "C"
          ],
          [
           "male",
           3,
           "S"
          ],
          [
           "male",
           3,
           "S"
          ],
          [
           "female",
           3,
           "C"
          ],
          [
           "female",
           1,
           "S"
          ],
          [
           "female",
           2,
           "S"
          ],
          [
           "female",
           3,
           "S"
          ],
          [
           "female",
           1,
           "S"
          ],
          [
           "male",
           1,
           "S"
          ],
          [
           "female",
           3,
           "C"
          ],
          [
           "male",
           3,
           "C"
          ],
          [
           "male",
           3,
           "S"
          ],
          [
           "male",
           2,
           "S"
          ],
          [
           "female",
           1,
           "S"
          ],
          [
           "female",
           3,
           "S"
          ],
          [
           "male",
           2,
           "S"
          ],
          [
           "female",
           2,
           "S"
          ],
          [
           "female",
           2,
           "C"
          ],
          [
           "male",
           1,
           "S"
          ],
          [
           "male",
           3,
           "S"
          ],
          [
           "male",
           3,
           "S"
          ],
          [
           "male",
           3,
           "S"
          ],
          [
           "female",
           1,
           "S"
          ],
          [
           "male",
           1,
           "S"
          ],
          [
           "male",
           3,
           "S"
          ],
          [
           "female",
           2,
           "C"
          ],
          [
           "female",
           3,
           "C"
          ],
          [
           "male",
           3,
           "S"
          ],
          [
           "male",
           3,
           "S"
          ],
          [
           "male",
           3,
           "S"
          ],
          [
           "female",
           1,
           "C"
          ],
          [
           "female",
           2,
           "S"
          ],
          [
           "male",
           3,
           "S"
          ],
          [
           "female",
           3,
           "S"
          ],
          [
           "male",
           2,
           "S"
          ],
          [
           "male",
           3,
           "S"
          ],
          [
           "female",
           3,
           "Q"
          ],
          [
           "male",
           2,
           "S"
          ],
          [
           "female",
           1,
           "S"
          ],
          [
           "female",
           3,
           "S"
          ],
          [
           "male",
           1,
           "C"
          ],
          [
           "male",
           3,
           "Q"
          ]
         ],
         "hovertemplate": "Age=%{x}<br>Fare=%{marker.size}<br>Sex=%{customdata[0]}<br>Pclass=%{customdata[1]}<br>Embarked=%{customdata[2]}<br>Survived=%{marker.color}<extra></extra>",
         "legendgroup": "",
         "marker": {
          "color": {
           "bdata": "AAEBAQAAAAABAQEBAAAAAQABAAEAAQEBAAEAAAEAAAEBAAAAAQAAAQAAAAEBAAABAAAAAAEBAAEBAAEAAAEAAAABAQABAAAAAAABAAAAAQEAAQEAAQEAAAEAAAAAAAAAAAEBAAAAAAAAAAEBAAEAAAAAAAAAAAAAAAAAAQABAAEBAAAAAAEAAAEAAAAAAQEAAAABAAAAAAEAAAAAAQAAAAABAAAAAQEAAAAAAAEAAAAAAAAAAAAAAQEAAQEAAAEAAQEBAQAAAQAAAAAAAQAAAQEBAAEAAAABAQABAAEAAAABAAEAAAABAAABAAAAAQAAAAEAAAAAAAEBAAAAAAAAAQEBAQEAAQAAAAAAAQEBAAEBAAEBAAAAAQAAAAEAAAEAAQEBAQAAAAAAAAEBAQEAAQABAQEAAQEBAAAAAQEAAQEAAAEBAAEAAQEBAQAAAAEAAAEBAAEBAAAAAQEBAQAAAAAAAAABAAEBAAAAAAAAAQEBAQEAAAAAAQEAAAABAQABAAAAAQABAQEAAQEAAAAAAQEAAAAAAAABAAAAAAEAAQABAQAAAAAAAAAAAQEAAQEBAQAAAQABAAABAAABAQEBAQEBAAAAAQABAAEBAAEAAAAAAAAAAAEAAAEBAAAAAAABAAAAAQEAAQAAAQAAAAAAAAEAAAAAAAAAAQABAQABAQABAQAAAQABAAEAAAEAAAEAAAABAAABAAEAAQABAQAAAQAAAQEAAQEAAAEBAAEAAQEAAAAAAAAAAAABAQEBAQAAAQEAAQEBAAAAAQABAAAAAQAAAAABAAABAQAAAAEAAAEBAQAAAQAAAQAAAQAAAQEAAAAAAQAAAQABAAABAAAAAAABAAEBAQABAAEAAQABAAAAAAAAAQAAAAEAAAAAAQEAAAEAAAABAAEAAQAAAAAAAAABAQEBAAAAAAEAAAEBAAAAAAEBAQEBAAEAAAABAQAAAQAAAAEAAQEAAAEAAAAAAAABAAABAAEAAQAAAQAAAQEAAAEBAAAAAQAAAQEAAQAAAAAAAAAAAQAAAQABAQEAAAAAAQABAAAAAAAAAAEBAAAAAQEBAQAAAAABAAAAAAAAAAAAAAEBAAEAAAABAQEBAQAAAAEAAAEBAAABAAAAAAAAAQAAAAEAAQEBAQAAAAEAAAEBAAABAAEAAAEBAAAAAQEAAAAAAAABAAEA",
           "dtype": "i1"
          },
          "coloraxis": "coloraxis",
          "line": {
           "color": "DarkSlateGrey",
           "width": 1
          },
          "size": {
           "bdata": "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",
           "dtype": "f8"
          },
          "sizemode": "area",
          "sizeref": 1.280823,
          "symbol": "circle"
         },
         "mode": "markers",
         "name": "",
         "orientation": "v",
         "showlegend": false,
         "type": "scatter",
         "x": {
          "bdata": "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",
          "dtype": "f8"
         },
         "xaxis": "x",
         "y": {
          "bdata": "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",
          "dtype": "f8"
         },
         "yaxis": "y"
        }
       ],
       "layout": {
        "coloraxis": {
         "colorbar": {
          "title": {
           "text": "Survived"
          }
         },
         "colorscale": [
          [
           0,
           "#228B22"
          ],
          [
           1,
           "#FA8072"
          ]
         ]
        },
        "legend": {
         "itemsizing": "constant",
         "tracegroupgap": 0
        },
        "template": {
         "data": {
          "bar": [
           {
            "error_x": {
             "color": "#2a3f5f"
            },
            "error_y": {
             "color": "#2a3f5f"
            },
            "marker": {
             "line": {
              "color": "white",
              "width": 0.5
             },
             "pattern": {
              "fillmode": "overlay",
              "size": 10,
              "solidity": 0.2
             }
            },
            "type": "bar"
           }
          ],
          "barpolar": [
           {
            "marker": {
             "line": {
              "color": "white",
              "width": 0.5
             },
             "pattern": {
              "fillmode": "overlay",
              "size": 10,
              "solidity": 0.2
             }
            },
            "type": "barpolar"
           }
          ],
          "carpet": [
           {
            "aaxis": {
             "endlinecolor": "#2a3f5f",
             "gridcolor": "#C8D4E3",
             "linecolor": "#C8D4E3",
             "minorgridcolor": "#C8D4E3",
             "startlinecolor": "#2a3f5f"
            },
            "baxis": {
             "endlinecolor": "#2a3f5f",
             "gridcolor": "#C8D4E3",
             "linecolor": "#C8D4E3",
             "minorgridcolor": "#C8D4E3",
             "startlinecolor": "#2a3f5f"
            },
            "type": "carpet"
           }
          ],
          "choropleth": [
           {
            "colorbar": {
             "outlinewidth": 0,
             "ticks": ""
            },
            "type": "choropleth"
           }
          ],
          "contour": [
           {
            "colorbar": {
             "outlinewidth": 0,
             "ticks": ""
            },
            "colorscale": [
             [
              0,
              "#0d0887"
             ],
             [
              0.1111111111111111,
              "#46039f"
             ],
             [
              0.2222222222222222,
              "#7201a8"
             ],
             [
              0.3333333333333333,
              "#9c179e"
             ],
             [
              0.4444444444444444,
              "#bd3786"
             ],
             [
              0.5555555555555556,
              "#d8576b"
             ],
             [
              0.6666666666666666,
              "#ed7953"
             ],
             [
              0.7777777777777778,
              "#fb9f3a"
             ],
             [
              0.8888888888888888,
              "#fdca26"
             ],
             [
              1,
              "#f0f921"
             ]
            ],
            "type": "contour"
           }
          ],
          "contourcarpet": [
           {
            "colorbar": {
             "outlinewidth": 0,
             "ticks": ""
            },
            "type": "contourcarpet"
           }
          ],
          "heatmap": [
           {
            "colorbar": {
             "outlinewidth": 0,
             "ticks": ""
            },
            "colorscale": [
             [
              0,
              "#0d0887"
             ],
             [
              0.1111111111111111,
              "#46039f"
             ],
             [
              0.2222222222222222,
              "#7201a8"
             ],
             [
              0.3333333333333333,
              "#9c179e"
             ],
             [
              0.4444444444444444,
              "#bd3786"
             ],
             [
              0.5555555555555556,
              "#d8576b"
             ],
             [
              0.6666666666666666,
              "#ed7953"
             ],
             [
              0.7777777777777778,
              "#fb9f3a"
             ],
             [
              0.8888888888888888,
              "#fdca26"
             ],
             [
              1,
              "#f0f921"
             ]
            ],
            "type": "heatmap"
           }
          ],
          "histogram": [
           {
            "marker": {
             "pattern": {
              "fillmode": "overlay",
              "size": 10,
              "solidity": 0.2
             }
            },
            "type": "histogram"
           }
          ],
          "histogram2d": [
           {
            "colorbar": {
             "outlinewidth": 0,
             "ticks": ""
            },
            "colorscale": [
             [
              0,
              "#0d0887"
             ],
             [
              0.1111111111111111,
              "#46039f"
             ],
             [
              0.2222222222222222,
              "#7201a8"
             ],
             [
              0.3333333333333333,
              "#9c179e"
             ],
             [
              0.4444444444444444,
              "#bd3786"
             ],
             [
              0.5555555555555556,
              "#d8576b"
             ],
             [
              0.6666666666666666,
              "#ed7953"
             ],
             [
              0.7777777777777778,
              "#fb9f3a"
             ],
             [
              0.8888888888888888,
              "#fdca26"
             ],
             [
              1,
              "#f0f921"
             ]
            ],
            "type": "histogram2d"
           }
          ],
          "histogram2dcontour": [
           {
            "colorbar": {
             "outlinewidth": 0,
             "ticks": ""
            },
            "colorscale": [
             [
              0,
              "#0d0887"
             ],
             [
              0.1111111111111111,
              "#46039f"
             ],
             [
              0.2222222222222222,
              "#7201a8"
             ],
             [
              0.3333333333333333,
              "#9c179e"
             ],
             [
              0.4444444444444444,
              "#bd3786"
             ],
             [
              0.5555555555555556,
              "#d8576b"
             ],
             [
              0.6666666666666666,
              "#ed7953"
             ],
             [
              0.7777777777777778,
              "#fb9f3a"
             ],
             [
              0.8888888888888888,
              "#fdca26"
             ],
             [
              1,
              "#f0f921"
             ]
            ],
            "type": "histogram2dcontour"
           }
          ],
          "mesh3d": [
           {
            "colorbar": {
             "outlinewidth": 0,
             "ticks": ""
            },
            "type": "mesh3d"
           }
          ],
          "parcoords": [
           {
            "line": {
             "colorbar": {
              "outlinewidth": 0,
              "ticks": ""
             }
            },
            "type": "parcoords"
           }
          ],
          "pie": [
           {
            "automargin": true,
            "type": "pie"
           }
          ],
          "scatter": [
           {
            "fillpattern": {
             "fillmode": "overlay",
             "size": 10,
             "solidity": 0.2
            },
            "type": "scatter"
           }
          ],
          "scatter3d": [
           {
            "line": {
             "colorbar": {
              "outlinewidth": 0,
              "ticks": ""
             }
            },
            "marker": {
             "colorbar": {
              "outlinewidth": 0,
              "ticks": ""
             }
            },
            "type": "scatter3d"
           }
          ],
          "scattercarpet": [
           {
            "marker": {
             "colorbar": {
              "outlinewidth": 0,
              "ticks": ""
             }
            },
            "type": "scattercarpet"
           }
          ],
          "scattergeo": [
           {
            "marker": {
             "colorbar": {
              "outlinewidth": 0,
              "ticks": ""
             }
            },
            "type": "scattergeo"
           }
          ],
          "scattergl": [
           {
            "marker": {
             "colorbar": {
              "outlinewidth": 0,
              "ticks": ""
             }
            },
            "type": "scattergl"
           }
          ],
          "scattermap": [
           {
            "marker": {
             "colorbar": {
              "outlinewidth": 0,
              "ticks": ""
             }
            },
            "type": "scattermap"
           }
          ],
          "scattermapbox": [
           {
            "marker": {
             "colorbar": {
              "outlinewidth": 0,
              "ticks": ""
             }
            },
            "type": "scattermapbox"
           }
          ],
          "scatterpolar": [
           {
            "marker": {
             "colorbar": {
              "outlinewidth": 0,
              "ticks": ""
             }
            },
            "type": "scatterpolar"
           }
          ],
          "scatterpolargl": [
           {
            "marker": {
             "colorbar": {
              "outlinewidth": 0,
              "ticks": ""
             }
            },
            "type": "scatterpolargl"
           }
          ],
          "scatterternary": [
           {
            "marker": {
             "colorbar": {
              "outlinewidth": 0,
              "ticks": ""
             }
            },
            "type": "scatterternary"
           }
          ],
          "surface": [
           {
            "colorbar": {
             "outlinewidth": 0,
             "ticks": ""
            },
            "colorscale": [
             [
              0,
              "#0d0887"
             ],
             [
              0.1111111111111111,
              "#46039f"
             ],
             [
              0.2222222222222222,
              "#7201a8"
             ],
             [
              0.3333333333333333,
              "#9c179e"
             ],
             [
              0.4444444444444444,
              "#bd3786"
             ],
             [
              0.5555555555555556,
              "#d8576b"
             ],
             [
              0.6666666666666666,
              "#ed7953"
             ],
             [
              0.7777777777777778,
              "#fb9f3a"
             ],
             [
              0.8888888888888888,
              "#fdca26"
             ],
             [
              1,
              "#f0f921"
             ]
            ],
            "type": "surface"
           }
          ],
          "table": [
           {
            "cells": {
             "fill": {
              "color": "#EBF0F8"
             },
             "line": {
              "color": "white"
             }
            },
            "header": {
             "fill": {
              "color": "#C8D4E3"
             },
             "line": {
              "color": "white"
             }
            },
            "type": "table"
           }
          ]
         },
         "layout": {
          "annotationdefaults": {
           "arrowcolor": "#2a3f5f",
           "arrowhead": 0,
           "arrowwidth": 1
          },
          "autotypenumbers": "strict",
          "coloraxis": {
           "colorbar": {
            "outlinewidth": 0,
            "ticks": ""
           }
          },
          "colorscale": {
           "diverging": [
            [
             0,
             "#8e0152"
            ],
            [
             0.1,
             "#c51b7d"
            ],
            [
             0.2,
             "#de77ae"
            ],
            [
             0.3,
             "#f1b6da"
            ],
            [
             0.4,
             "#fde0ef"
            ],
            [
             0.5,
             "#f7f7f7"
            ],
            [
             0.6,
             "#e6f5d0"
            ],
            [
             0.7,
             "#b8e186"
            ],
            [
             0.8,
             "#7fbc41"
            ],
            [
             0.9,
             "#4d9221"
            ],
            [
             1,
             "#276419"
            ]
           ],
           "sequential": [
            [
             0,
             "#0d0887"
            ],
            [
             0.1111111111111111,
             "#46039f"
            ],
            [
             0.2222222222222222,
             "#7201a8"
            ],
            [
             0.3333333333333333,
             "#9c179e"
            ],
            [
             0.4444444444444444,
             "#bd3786"
            ],
            [
             0.5555555555555556,
             "#d8576b"
            ],
            [
             0.6666666666666666,
             "#ed7953"
            ],
            [
             0.7777777777777778,
             "#fb9f3a"
            ],
            [
             0.8888888888888888,
             "#fdca26"
            ],
            [
             1,
             "#f0f921"
            ]
           ],
           "sequentialminus": [
            [
             0,
             "#0d0887"
            ],
            [
             0.1111111111111111,
             "#46039f"
            ],
            [
             0.2222222222222222,
             "#7201a8"
            ],
            [
             0.3333333333333333,
             "#9c179e"
            ],
            [
             0.4444444444444444,
             "#bd3786"
            ],
            [
             0.5555555555555556,
             "#d8576b"
            ],
            [
             0.6666666666666666,
             "#ed7953"
            ],
            [
             0.7777777777777778,
             "#fb9f3a"
            ],
            [
             0.8888888888888888,
             "#fdca26"
            ],
            [
             1,
             "#f0f921"
            ]
           ]
          },
          "colorway": [
           "#636efa",
           "#EF553B",
           "#00cc96",
           "#ab63fa",
           "#FFA15A",
           "#19d3f3",
           "#FF6692",
           "#B6E880",
           "#FF97FF",
           "#FECB52"
          ],
          "font": {
           "color": "#2a3f5f"
          },
          "geo": {
           "bgcolor": "white",
           "lakecolor": "white",
           "landcolor": "white",
           "showlakes": true,
           "showland": true,
           "subunitcolor": "#C8D4E3"
          },
          "hoverlabel": {
           "align": "left"
          },
          "hovermode": "closest",
          "mapbox": {
           "style": "light"
          },
          "paper_bgcolor": "white",
          "plot_bgcolor": "white",
          "polar": {
           "angularaxis": {
            "gridcolor": "#EBF0F8",
            "linecolor": "#EBF0F8",
            "ticks": ""
           },
           "bgcolor": "white",
           "radialaxis": {
            "gridcolor": "#EBF0F8",
            "linecolor": "#EBF0F8",
            "ticks": ""
           }
          },
          "scene": {
           "xaxis": {
            "backgroundcolor": "white",
            "gridcolor": "#DFE8F3",
            "gridwidth": 2,
            "linecolor": "#EBF0F8",
            "showbackground": true,
            "ticks": "",
            "zerolinecolor": "#EBF0F8"
           },
           "yaxis": {
            "backgroundcolor": "white",
            "gridcolor": "#DFE8F3",
            "gridwidth": 2,
            "linecolor": "#EBF0F8",
            "showbackground": true,
            "ticks": "",
            "zerolinecolor": "#EBF0F8"
           },
           "zaxis": {
            "backgroundcolor": "white",
            "gridcolor": "#DFE8F3",
            "gridwidth": 2,
            "linecolor": "#EBF0F8",
            "showbackground": true,
            "ticks": "",
            "zerolinecolor": "#EBF0F8"
           }
          },
          "shapedefaults": {
           "line": {
            "color": "#2a3f5f"
           }
          },
          "ternary": {
           "aaxis": {
            "gridcolor": "#DFE8F3",
            "linecolor": "#A2B1C6",
            "ticks": ""
           },
           "baxis": {
            "gridcolor": "#DFE8F3",
            "linecolor": "#A2B1C6",
            "ticks": ""
           },
           "bgcolor": "white",
           "caxis": {
            "gridcolor": "#DFE8F3",
            "linecolor": "#A2B1C6",
            "ticks": ""
           }
          },
          "title": {
           "x": 0.05
          },
          "xaxis": {
           "automargin": true,
           "gridcolor": "#EBF0F8",
           "linecolor": "#EBF0F8",
           "ticks": "",
           "title": {
            "standoff": 15
           },
           "zerolinecolor": "#EBF0F8",
           "zerolinewidth": 2
          },
          "yaxis": {
           "automargin": true,
           "gridcolor": "#EBF0F8",
           "linecolor": "#EBF0F8",
           "ticks": "",
           "title": {
            "standoff": 15
           },
           "zerolinecolor": "#EBF0F8",
           "zerolinewidth": 2
          }
         }
        },
        "title": {
         "text": "🧭 Age vs Fare vs Survival (Interactive)"
        },
        "xaxis": {
         "anchor": "y",
         "domain": [
          0,
          1
         ],
         "title": {
          "text": "Age"
         }
        },
        "yaxis": {
         "anchor": "x",
         "domain": [
          0,
          1
         ],
         "title": {
          "text": "Fare"
         }
        }
       }
      },
      "image/png": "[encoded data removed]"
     },
     "metadata": {},
     "output_type": "display_data"
    },
    {
     "data": {
      "text/plain": [
       "<Figure size 800x1000 with 0 Axes>"
      ]
     },
     "metadata": {},
     "output_type": "display_data"
    }
   ],
   "source": [
    "#16.⚡ Interactive Scatter: Survival by Age & Fare\n",
    "plt.figure(figsize = (8,10))\n",
    "fig = px.scatter(data_frame = df,\n",
    "                 x = \"Age\" ,\n",
    "                 y = \"Fare\",\n",
    "                 size= \"Fare\",\n",
    "                 color = \"Survived\",\n",
    "                hover_data=[\"Sex\", \"Pclass\", \"Embarked\"],\n",
    "                 color_continuous_scale=[ \"#228B22\" , \"#FA8072\" ],\n",
    "                 title = \"🧭 Age vs Fare vs Survival (Interactive)\",\n",
    "                 template=\"plotly_white\"\n",
    "                )\n",
    "fig.update_traces(marker=dict(line=dict(width=1, color=\"DarkSlateGrey\")))\n",
    "fig.show()"
   ]
  },
  {
   "cell_type": "code",
   "execution_count": null,
   "id": "9ef7e3eb-3532-4815-9f83-1acdf90378c8",
   "metadata": {},
   "outputs": [],
   "source": []
  }
 ],
 "metadata": {
  "kernelspec": {
   "display_name": "Python 3 (ipykernel)",
   "language": "python",
   "name": "python3"
  },
  "language_info": {
   "codemirror_mode": {
    "name": "ipython",
    "version": 3
   },
   "file_extension": ".py",
   "mimetype": "text/x-python",
   "name": "python",
   "nbconvert_exporter": "python",
   "pygments_lexer": "ipython3",
   "version": "3.13.2"
  }
 },
 "nbformat": 4,
 "nbformat_minor": 5
}
